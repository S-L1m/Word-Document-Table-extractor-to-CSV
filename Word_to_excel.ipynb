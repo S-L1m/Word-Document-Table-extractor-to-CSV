{
 "cells": [
  {
   "cell_type": "code",
   "execution_count": 6,
   "id": "49231885-e11a-4e71-9005-1c0ce0dc4d02",
   "metadata": {},
   "outputs": [
    {
     "ename": "AssertionError",
     "evalue": "",
     "output_type": "error",
     "traceback": [
      "\u001b[1;31m---------------------------------------------------------------------------\u001b[0m",
      "\u001b[1;31mAssertionError\u001b[0m                            Traceback (most recent call last)",
      "\u001b[1;32m<ipython-input-6-6b6d6da4da34>\u001b[0m in \u001b[0;36m<module>\u001b[1;34m\u001b[0m\n\u001b[0;32m     29\u001b[0m     \u001b[0mfile\u001b[0m\u001b[1;33m.\u001b[0m\u001b[0mclose\u001b[0m\u001b[1;33m(\u001b[0m\u001b[1;33m)\u001b[0m\u001b[1;33m\u001b[0m\u001b[1;33m\u001b[0m\u001b[0m\n\u001b[0;32m     30\u001b[0m \u001b[1;33m\u001b[0m\u001b[0m\n\u001b[1;32m---> 31\u001b[1;33m \u001b[0mdf\u001b[0m \u001b[1;33m=\u001b[0m \u001b[0mread_docx_table\u001b[0m\u001b[1;33m(\u001b[0m\u001b[1;33m)\u001b[0m\u001b[1;33m\u001b[0m\u001b[1;33m\u001b[0m\u001b[0m\n\u001b[0m",
      "\u001b[1;32m<ipython-input-6-6b6d6da4da34>\u001b[0m in \u001b[0;36mread_docx_table\u001b[1;34m(**kwarg)\u001b[0m\n\u001b[0;32m     12\u001b[0m     \u001b[0mdocument\u001b[0m \u001b[1;33m=\u001b[0m \u001b[0mfiledialog\u001b[0m\u001b[1;33m.\u001b[0m\u001b[0maskopenfilename\u001b[0m\u001b[1;33m(\u001b[0m\u001b[1;33m)\u001b[0m\u001b[1;33m\u001b[0m\u001b[1;33m\u001b[0m\u001b[0m\n\u001b[0;32m     13\u001b[0m     \u001b[0mroot\u001b[0m\u001b[1;33m.\u001b[0m\u001b[0mupdate\u001b[0m\u001b[1;33m(\u001b[0m\u001b[1;33m)\u001b[0m\u001b[1;33m\u001b[0m\u001b[1;33m\u001b[0m\u001b[0m\n\u001b[1;32m---> 14\u001b[1;33m     \u001b[1;32massert\u001b[0m \u001b[0mos\u001b[0m\u001b[1;33m.\u001b[0m\u001b[0mpath\u001b[0m\u001b[1;33m.\u001b[0m\u001b[0mexists\u001b[0m\u001b[1;33m(\u001b[0m\u001b[0mdocument\u001b[0m\u001b[1;33m)\u001b[0m\u001b[1;33m\u001b[0m\u001b[1;33m\u001b[0m\u001b[0m\n\u001b[0m\u001b[0;32m     15\u001b[0m     \u001b[0mfile\u001b[0m \u001b[1;33m=\u001b[0m \u001b[0mopen\u001b[0m\u001b[1;33m(\u001b[0m\u001b[0mdocument\u001b[0m\u001b[1;33m)\u001b[0m\u001b[1;33m\u001b[0m\u001b[1;33m\u001b[0m\u001b[0m\n\u001b[0;32m     16\u001b[0m     \u001b[0mtable_num\u001b[0m \u001b[1;33m=\u001b[0m \u001b[1;36m1\u001b[0m\u001b[1;33m\u001b[0m\u001b[1;33m\u001b[0m\u001b[0m\n",
      "\u001b[1;31mAssertionError\u001b[0m: "
     ]
    }
   ],
   "source": [
    "# V1\n",
    "import tkinter as tk\n",
    "from tkinter import filedialog\n",
    "import re\n",
    "import os\n",
    "import docx\n",
    "from docx import Document\n",
    "import pandas as pd\n",
    "\n",
    "def read_docx_table(**kwarg):\n",
    "    root = tk.Tk()\n",
    "    root.withdraw()\n",
    "    document = filedialog.askopenfilename()\n",
    "    root.update()\n",
    "    assert os.path.exists(document)\n",
    "    file = open(document)\n",
    "    table_num = 1\n",
    "    nheader = 1\n",
    "    \n",
    "    for j in document:\n",
    "        document3 = Document(document) \n",
    "        table = document3.tables[table_num-1]\n",
    "        data =  [[cell.text for cell in row.cells] for row in table.rows]\n",
    "        df = pd.DataFrame(data)\n",
    "        df = df.rename(columns=df.iloc[0]).drop(df.index[0]).reset_index(drop=True)\n",
    "        df.index=[0]*len(df)\n",
    "        df = df.pivot(index=None, columns=\"Question\", values=\"Answer\")\n",
    "        df.to_excel(\"Summary.xlsx\")\n",
    "    return df\n",
    "    file.close()\n",
    "\n",
    "df = read_docx_table()"
   ]
  },
  {
   "cell_type": "code",
   "execution_count": 65,
   "id": "ce76ed3c-4318-4d29-a256-fa330438a160",
   "metadata": {},
   "outputs": [
    {
     "name": "stdin",
     "output_type": "stream",
     "text": [
      "Input file location:  C:\\Users\\stefan.lim\\Desktop\\Template_ex1.docx\n",
      "Please input table number, index starts from 0:  0\n",
      "Please input number of headers 1-2:  1\n"
     ]
    }
   ],
   "source": [
    "#V1.2 no GUI, but more flexible for file location, table_num, and nheader\n",
    "import tkinter as tk\n",
    "from tkinter import filedialog\n",
    "import re\n",
    "#import os\n",
    "import docx\n",
    "from docx import Document\n",
    "import pandas as pd\n",
    "\n",
    "def read_docx_table(**kwarg):\n",
    "    document = Document(input(\"Input file location: \"))\n",
    "    # assert os.path.exists(document)\n",
    "    # file = open(document)\n",
    "    table_num = int(input(\"Please input table number, index starts from 0: \"))\n",
    "    nheader = int(input(\"Please input number of headers 1-2: \"))\n",
    "    #document2 = Document(document)\n",
    "    table = document.tables[table_num-1]\n",
    "    data =  [[cell.text for cell in row.cells] for row in table.rows]\n",
    "    df = pd.DataFrame(data)\n",
    "    if nheader == 1:\n",
    "        df = df.rename(columns=df.iloc[0]).drop(df.index[0]).reset_index(drop=True)\n",
    "    elif nheader == 2:\n",
    "        outside_col, inside_col = df.iloc[0], df.iloc[1]\n",
    "        hier_index = pd.MultiIndex.from_tuples(list(zip(outside_col, inside_col)))\n",
    "        df = df.DataFrame(data, columns = hier_index).drop(df.index[[0,1]]).reset_index(drop=True)\n",
    "    elif nheader > 2:\n",
    "        print(\"More than two headers not currently supported\")\n",
    "        df = pd.DataFrame()\n",
    "    return df\n",
    "    df.index=[0]*len(df)\n",
    "    df = df.pivot(index=None, columns=\"Question\", values=\"Answer\")\n",
    "    df.to_excel(\"Summary.xlsx\")\n",
    "    document.close()\n",
    "    \n",
    "df = read_docx_table()"
   ]
  },
  {
   "cell_type": "code",
   "execution_count": 70,
   "id": "8b0ff924-94fd-4983-86d8-8e5146ec3915",
   "metadata": {},
   "outputs": [
    {
     "name": "stdin",
     "output_type": "stream",
     "text": [
      "Please input table number, index starts from 0:  0\n",
      "Please input number of headers:  1\n"
     ]
    }
   ],
   "source": [
    "#v2 GUI input, flexible in choosing table_num and nheaders\n",
    "# will transform word table into a Row. Applicable for WOCA only\n",
    "import tkinter as tk\n",
    "from tkinter import filedialog\n",
    "import re\n",
    "import os\n",
    "import docx\n",
    "from docx import Document\n",
    "import pandas as pd\n",
    "\n",
    "def read_docx_table(**kwarg):\n",
    "    root = tk.Tk()\n",
    "    root.withdraw()\n",
    "    paths = filedialog.askopenfilename()\n",
    "    root.update()\n",
    "    document = Document(paths)\n",
    "    table_num = int(input(\"Please input table number, index starts from 0: \"))\n",
    "    nheader = int(input(\"Please input number of headers: \"))\n",
    "    \n",
    "    table = document.tables[table_num-1]\n",
    "    data =  [[cell.text for cell in row.cells] for row in table.rows]\n",
    "    df = pd.DataFrame(data)\n",
    "    \n",
    "    if nheader == 1:\n",
    "        df = df.rename(columns=df.iloc[0]).drop(df.index[0]).reset_index(drop=True)\n",
    "    elif nheader == 2:\n",
    "        outside_col, inside_col = df.iloc[0], df.iloc[1]\n",
    "        hier_index = pd.MultiIndex.from_tuples(list(zip(outside_col, inside_col)))\n",
    "        df = df.DataFrame(data, columns = hier_index).drop(df.index[[0,1]]).reset_index(drop=True)\n",
    "    elif nheader > 2:\n",
    "        print(\"More than two headers not currently supported\")\n",
    "        df = pd.DataFrame()\n",
    "    return df\n",
    "    document.close()\n",
    "    \n",
    
    "df.to_excel(\"Summary.xlsx\")"
   ]
  },
  {
   "cell_type": "code",
   "execution_count": null,
   "id": "eab1be67-01b5-42b3-b4fb-3c2ea906f861",
   "metadata": {},
   "outputs": [],
   "source": []
  }
 ],
 "metadata": {
  "kernelspec": {
   "display_name": "Python 3",
   "language": "python",
   "name": "python3"
  },
  "language_info": {
   "codemirror_mode": {
    "name": "ipython",
    "version": 3
   },
   "file_extension": ".py",
   "mimetype": "text/x-python",
   "name": "python",
   "nbconvert_exporter": "python",
   "pygments_lexer": "ipython3",
   "version": "3.8.8"
  }
 },
 "nbformat": 4,
 "nbformat_minor": 5
}
