{
 "cells": [
  {
   "cell_type": "code",
   "execution_count": 99,
   "id": "49231885-e11a-4e71-9005-1c0ce0dc4d02",
   "metadata": {},
   "outputs": [],
   "source": [
    "import tkinter as tk\n",
    "from tkinter import filedialog\n",
    "import re\n",
    "import os\n",
    "import sys\n",
    "import docx\n",
    "from docx import Document\n",
    "import pandas as pd\n",
    "\n",
    "def read_docx_table(**kwarg):\n",
    "    root = tk.Tk()\n",
    "    root.withdraw()\n",
    "    document = filedialog.askopenfilename()\n",
    "    root.update()\n",
    "    assert os.path.exists(document)\n",
    "    file = open(document)\n",
    "    table_num = 1\n",
    "    nheader = 1\n",
    "    \n",
    "    for j in document:\n",
    "        document3 = Document(document) \n",
    "        table = document3.tables[table_num-1]\n",
    "        data =  [[cell.text for cell in row.cells] for row in table.rows]\n",
    "        df = pd.DataFrame(data)\n",
    "        df = df.rename(columns=df.iloc[0]).drop(df.index[0]).reset_index(drop=True)\n",
    "        df.index=[0]*len(df)\n",
    "        df = df.pivot(index=None, columns=\"Question\", values=\"Answer\")\n",
    "        df.to_excel(\"Summary.xlsx\")\n",
    "    return df\n",
    "    file.close()\n",
    "\n",
    "df = read_docx_table()"
   ]
  }
 ],
 "metadata": {
  "kernelspec": {
   "display_name": "Python 3",
   "language": "python",
   "name": "python3"
  },
  "language_info": {
   "codemirror_mode": {
    "name": "ipython",
    "version": 3
   },
   "file_extension": ".py",
   "mimetype": "text/x-python",
   "name": "python",
   "nbconvert_exporter": "python",
   "pygments_lexer": "ipython3",
   "version": "3.8.8"
  }
 },
 "nbformat": 4,
 "nbformat_minor": 5
}
